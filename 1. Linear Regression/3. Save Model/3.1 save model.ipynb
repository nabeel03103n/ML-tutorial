{
 "cells": [
  {
   "cell_type": "markdown",
   "metadata": {},
   "source": [
    "# Save the model\n",
    "\n",
    "- 1. Pickle\n",
    "- 2. Sklearn joblib\n",
    "\n",
    "\n",
    "you can save the model to use it later\n",
    "\n",
    "for this tutorial we will use the model from from our 1.2 multivar linear reg.ipynb \n",
    "\n",
    "for this we will use python's pickle module to dump the model\n",
    "this will give you a binary file in the current directory\n",
    "\n",
    "to load the model you can use pickle.load()\n",
    "\n",
    "\n",
    "# Second Method\n",
    "\n",
    "Our second method is by using sklearn joblib\n",
    "\n",
    "but whats the diffrences well if your model is using large numpy arrays joblib is a better choice for you\n",
    "but as of this time joblib has been removed from sklearn.externals so you should import it directly by import joblib"
   ]
  },
  {
   "cell_type": "code",
   "execution_count": null,
   "metadata": {},
   "outputs": [],
   "source": []
  }
 ],
 "metadata": {
  "language_info": {
   "name": "python"
  }
 },
 "nbformat": 4,
 "nbformat_minor": 2
}
